{
  "nbformat": 4,
  "nbformat_minor": 0,
  "metadata": {
    "colab": {
      "name": "Gradient Descent.ipynb",
      "provenance": [],
      "collapsed_sections": [],
      "mount_file_id": "1emC1-1WTwUnBMA37WRE-aWe2zHBzr-lr",
      "authorship_tag": "ABX9TyMCrJBBZEpetI/rq/jolYzd",
      "include_colab_link": true
    },
    "kernelspec": {
      "name": "python3",
      "display_name": "Python 3"
    },
    "language_info": {
      "name": "python"
    }
  },
  "cells": [
    {
      "cell_type": "markdown",
      "metadata": {
        "id": "view-in-github",
        "colab_type": "text"
      },
      "source": [
        "<a href=\"https://colab.research.google.com/github/vishnuvryeruva/Image-Classification---Gradient-Descent/blob/main/Gradient_Descent.ipynb\" target=\"_parent\"><img src=\"https://colab.research.google.com/assets/colab-badge.svg\" alt=\"Open In Colab\"/></a>"
      ]
    },
    {
      "cell_type": "code",
      "execution_count": 1,
      "metadata": {
        "id": "LuBBfxrOwfIb"
      },
      "outputs": [],
      "source": [
        "import numpy as np\n",
        "import pandas as pd\n",
        "from sklearn.model_selection import train_test_split\n",
        "import matplotlib.pyplot as plt"
      ]
    },
    {
      "cell_type": "code",
      "source": [
        "class LinearRegression() :    \n",
        "    def __init__( self, learning_rate, iterations ) :\n",
        "        self.learning_rate = learning_rate\n",
        "        self.iterations = iterations\n",
        "    def fit( self, X, Y ) :\n",
        "        self.m, self.n = X.shape\n",
        "        self.W = np.zeros( self.n )\n",
        "        self.b = 0          \n",
        "        self.X = X        \n",
        "        self.Y = Y                  \n",
        "        for i in range( self.iterations ) :              \n",
        "            self.update_weights()              \n",
        "        return self      \n",
        "    def update_weights( self ) :             \n",
        "        Y_pred = self.predict( self.X )                  \n",
        "        dW = - ( 2 * ( self.X.T ).dot( self.Y - Y_pred )  ) / self.m       \n",
        "        db = - 2 * np.sum( self.Y - Y_pred ) / self.m \n",
        "        self.W = self.W - self.learning_rate * dW      \n",
        "        self.b = self.b - self.learning_rate * db          \n",
        "        return self      \n",
        "    def predict( self, X ) :      \n",
        "        return X.dot( self.W ) + self.b"
      ],
      "metadata": {
        "id": "ORu8rmlOw6fo"
      },
      "execution_count": 5,
      "outputs": []
    },
    {
      "cell_type": "code",
      "source": [
        "df = pd.read_csv( \"/content/drive/MyDrive/Data/Salary_Data.csv\" )\n",
        "X = df.iloc[:,:-1].values\n",
        "Y = df.iloc[:,1].values\n",
        "X_train, X_test, Y_train, Y_test = train_test_split( \n",
        "  X, Y, test_size = 1/3, random_state = 0 )\n",
        "model = LinearRegression( iterations = 1000, learning_rate = 0.01 )\n",
        "model.fit( X_train, Y_train )\n",
        "Y_pred = model.predict( X_test )\n",
        "print( \"Predicted values \", np.round( Y_pred[:3], 2 ) ) \n",
        "print( \"Real values      \", Y_test[:3] )\n",
        "print( \"Trained W        \", round( model.W[0], 2 ) )\n",
        "print( \"Trained b        \", round( model.b, 2 ) )\n",
        "plt.scatter( X_test, Y_test, color = 'blue' )\n",
        "plt.plot( X_test, Y_pred, color = 'orange' )\n",
        "plt.title( 'Salary vs Experience' )\n",
        "plt.xlabel( 'Years of Experience' )\n",
        "plt.ylabel( 'Salary' )\n",
        "plt.show()"
      ],
      "metadata": {
        "colab": {
          "base_uri": "https://localhost:8080/",
          "height": 370
        },
        "id": "pLU22JdDw9Fh",
        "outputId": "988546e5-2a32-47b7-b5c3-70010be44544"
      },
      "execution_count": 6,
      "outputs": [
        {
          "output_type": "stream",
          "name": "stdout",
          "text": [
            "Predicted values  [ 40594.69 123305.18  65031.88]\n",
            "Real values       [ 37731. 122391.  57081.]\n",
            "Trained W         9398.92\n",
            "Trained b         26496.31\n"
          ]
        },
        {
          "output_type": "display_data",
          "data": {
            "image/png": "[encoded data removed]",
            "text/plain": [
              "<Figure size 432x288 with 1 Axes>"
            ]
          },
          "metadata": {
            "needs_background": "light"
          }
        }
      ]
    }
  ]
}